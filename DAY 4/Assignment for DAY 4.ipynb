{
 "cells": [
  {
   "cell_type": "markdown",
   "metadata": {},
   "source": [
    "\n",
    "# DAY 4\n"
   ]
  },
  {
   "cell_type": "markdown",
   "metadata": {},
   "source": [
    "# 1."
   ]
  },
  {
   "cell_type": "code",
   "execution_count": 3,
   "metadata": {},
   "outputs": [
    {
     "name": "stdout",
     "output_type": "stream",
     "text": [
      "(9+12j)\n",
      "(3+4j)\n",
      "(2+0j)\n",
      "(-14+48j)\n"
     ]
    }
   ],
   "source": [
    "A = 6+8j\n",
    "B = 3+4j\n",
    "\n",
    "print(A+B)\n",
    "print(A-B)\n",
    "print(A/B)\n",
    "print(A*B)\n",
    "\n",
    "# we cannot perform floor division and modulo operations on complex number"
   ]
  },
  {
   "cell_type": "markdown",
   "metadata": {},
   "source": [
    "# 2.\n",
    "\n",
    "The range function the gives the sequence of numbers based on the arguments provided.  The syntax of range function is range(start, stop, step). The arguments in the range funtion must be integer.  For example range(2,10,3), the sequence will be given including the start value and excluding the end value and the step indicates that number of values to escape while giving the sequence. In range function a single argument can also be provide which gives the ouput starting from till i-1."
   ]
  },
  {
   "cell_type": "markdown",
   "metadata": {},
   "source": [
    "# 3."
   ]
  },
  {
   "cell_type": "code",
   "execution_count": 14,
   "metadata": {},
   "outputs": [
    {
     "name": "stdout",
     "output_type": "stream",
     "text": [
      "First value: 10\n",
      "Second value: 2\n",
      "A/B = 5.0\n"
     ]
    }
   ],
   "source": [
    "A = int(input(\"First value: \"))\n",
    "B = int(input(\"Second value: \"))\n",
    "sub = A-B\n",
    "\n",
    "if sub > 25:\n",
    "    print(\"A*B =\", A*B)\n",
    "else:\n",
    "    print(\"A/B =\", A/B)"
   ]
  },
  {
   "cell_type": "markdown",
   "metadata": {},
   "source": [
    "# 4. "
   ]
  },
  {
   "cell_type": "code",
   "execution_count": 36,
   "metadata": {},
   "outputs": [
    {
     "name": "stdout",
     "output_type": "stream",
     "text": [
      "10 **2 - 2 =  98\n",
      "2 **2 - 2 =  2\n",
      "12 **2 - 2 =  142\n",
      "14 **2 - 2 =  194\n",
      "8 **2 - 2 =  62\n",
      "4 **2 - 2 =  14\n",
      "6 **2 - 2 =  34\n"
     ]
    }
   ],
   "source": [
    "lst = [10,7,2,12,14,19,8,23,4,6]\n",
    "for i in lst:\n",
    "    if i%2 == 0:\n",
    "        print(i,\"**2 - 2 = \", (i**2)-2)"
   ]
  },
  {
   "cell_type": "markdown",
   "metadata": {},
   "source": [
    "# 5."
   ]
  },
  {
   "cell_type": "code",
   "execution_count": 38,
   "metadata": {},
   "outputs": [
    {
     "name": "stdout",
     "output_type": "stream",
     "text": [
      "10\n",
      "12\n",
      "14\n",
      "8\n"
     ]
    }
   ],
   "source": [
    "lst = [10,7,2,12,14,19,8,23,4,6]\n",
    "for i in lst:\n",
    "    if i%2 == 0 and i> 7:\n",
    "        print(i)"
   ]
  }
 ],
 "metadata": {
  "kernelspec": {
   "display_name": "Python 3",
   "language": "python",
   "name": "python3"
  },
  "language_info": {
   "codemirror_mode": {
    "name": "ipython",
    "version": 3
   },
   "file_extension": ".py",
   "mimetype": "text/x-python",
   "name": "python",
   "nbconvert_exporter": "python",
   "pygments_lexer": "ipython3",
   "version": "3.7.6"
  }
 },
 "nbformat": 4,
 "nbformat_minor": 4
}
