{
 "cells": [
  {
   "cell_type": "markdown",
   "metadata": {},
   "source": [
    "\n",
    "# DAY 5\n"
   ]
  },
  {
   "cell_type": "markdown",
   "metadata": {},
   "source": [
    "# 1."
   ]
  },
  {
   "cell_type": "code",
   "execution_count": 1,
   "metadata": {},
   "outputs": [
    {
     "name": "stdout",
     "output_type": "stream",
     "text": [
      "3  5  7  11  13  17  19  "
     ]
    }
   ],
   "source": [
    "for i in range (1, 21):\n",
    "    a = 0\n",
    "    for k in range(2, i):\n",
    "        if(i % k == 0):\n",
    "            a = a + 1\n",
    "            break\n",
    "        \n",
    "    if (a == 0 and i not in (1,2)):\n",
    "        print(i, end = '  ')"
   ]
  },
  {
   "cell_type": "markdown",
   "metadata": {},
   "source": [
    "# 2."
   ]
  },
  {
   "cell_type": "code",
   "execution_count": 2,
   "metadata": {},
   "outputs": [
    {
     "name": "stdout",
     "output_type": "stream",
     "text": [
      "1.   good morning  \n",
      "2.   Good Morning  \n",
      "3. 3\n",
      "4.   good morning  \n",
      "5. JJ  Good morning  JJ\n",
      "6. False\n",
      "7. 3\n",
      "8. 7\n",
      "9. False\n",
      "10. True\n",
      "11.            Good morning  \n",
      "12.       G  o  o  d     m  o  r  n  i  n  g      \n",
      "12. Good morning  \n",
      "14.   Gkkd mkrning  \n",
      "15. ['Good', 'morning']\n"
     ]
    }
   ],
   "source": [
    "A = '  Good morning  '\n",
    "\n",
    "#1. Capitalize\n",
    "print('1.',A.capitalize())\n",
    "\n",
    "#2. Tittle\n",
    "print('2.',A.title())\n",
    "\n",
    "#3. Count\n",
    "print('3.',A.count('o'))\n",
    "\n",
    "#4. lower\n",
    "print('4.',A.lower())\n",
    "\n",
    "#5. Centre\n",
    "print('5.',A.center(20,'J'))\n",
    "\n",
    "#6. Endswith\n",
    "print('6.',A.endswith('g'))\n",
    "\n",
    "#7. Find\n",
    "print('7.',A.find('o'))\n",
    "\n",
    "#8. Index\n",
    "print('8.',A.index('m'))\n",
    "\n",
    "#9. Isalnum\n",
    "print('9.',A.isalnum())\n",
    "\n",
    "#10. Isascii\n",
    "print('10.',A.isascii())\n",
    "\n",
    "#11 Rjust\n",
    "print('11.',A.rjust(25))\n",
    "\n",
    "#12 Join\n",
    "print('12.',\"  \".join(A))\n",
    "\n",
    "#13 Lstrip\n",
    "print('12.',A.lstrip())\n",
    "\n",
    "#14 Replace\n",
    "print('14.',A.replace('o','k'))\n",
    "\n",
    "#15 Separator\n",
    "print('15.',A.split())"
   ]
  },
  {
   "cell_type": "markdown",
   "metadata": {},
   "source": [
    "# 3."
   ]
  },
  {
   "cell_type": "code",
   "execution_count": 3,
   "metadata": {},
   "outputs": [
    {
     "name": "stdout",
     "output_type": "stream",
     "text": [
      "Enter a value: 121\n",
      "Given number is Palindrome\n"
     ]
    }
   ],
   "source": [
    "inp = input(\"Enter a value: \")\n",
    "val = int(inp)\n",
    "lng = len(inp)\n",
    "sum = 0\n",
    "\n",
    "for i in range(1,lng+1):\n",
    "    k = val%10\n",
    "    sum = sum*10 + k\n",
    "    val = val//10\n",
    "    \n",
    "if (int(inp) == sum):\n",
    "    print(\"Given number is Palindrome\")\n",
    "else:\n",
    "    print(\"This is not a Palindrome\")\n"
   ]
  },
  {
   "cell_type": "markdown",
   "metadata": {},
   "source": [
    "# 4."
   ]
  },
  {
   "cell_type": "code",
   "execution_count": 4,
   "metadata": {},
   "outputs": [
    {
     "name": "stdout",
     "output_type": "stream",
     "text": [
      "drdarshaningleaimltrainer"
     ]
    }
   ],
   "source": [
    "name = \"Dr. Darshan Ingle @AI-ML Trainer\"\n",
    "for i in name:\n",
    "    if (i.isalpha()) == True:\n",
    "        print(i.lower(),end='')"
   ]
  },
  {
   "cell_type": "code",
   "execution_count": null,
   "metadata": {},
   "outputs": [],
   "source": []
  }
 ],
 "metadata": {
  "kernelspec": {
   "display_name": "Python 3",
   "language": "python",
   "name": "python3"
  },
  "language_info": {
   "codemirror_mode": {
    "name": "ipython",
    "version": 3
   },
   "file_extension": ".py",
   "mimetype": "text/x-python",
   "name": "python",
   "nbconvert_exporter": "python",
   "pygments_lexer": "ipython3",
   "version": "3.7.6"
  }
 },
 "nbformat": 4,
 "nbformat_minor": 4
}
